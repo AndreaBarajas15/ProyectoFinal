{
  "nbformat": 4,
  "nbformat_minor": 0,
  "metadata": {
    "colab": {
      "name": "Untitled7.ipynb",
      "provenance": [],
      "include_colab_link": true
    },
    "kernelspec": {
      "name": "python3",
      "display_name": "Python 3"
    },
    "language_info": {
      "name": "python"
    }
  },
  "cells": [
    {
      "cell_type": "markdown",
      "metadata": {
        "id": "view-in-github",
        "colab_type": "text"
      },
      "source": [
        "<a href=\"https://colab.research.google.com/github/AndreaBarajas15/ProyectoFinal/blob/main/Untitled7.ipynb\" target=\"_parent\"><img src=\"https://colab.research.google.com/assets/colab-badge.svg\" alt=\"Open In Colab\"/></a>"
      ]
    },
    {
      "cell_type": "markdown",
      "source": [
        "importando librerias"
      ],
      "metadata": {
        "id": "ijIFaDwvJqJY"
      }
    },
    {
      "cell_type": "code",
      "source": [
        "from io import IncrementalNewlineDecoder\n",
        "import numpy as np\n",
        "from scipy import misc\n",
        "from PIL import Image\n",
        "import glob\n",
        "import matplotlib.pyplot as plt\n",
        "import scipy.misc\n",
        "from matplotlib.pyplot import imshow\n",
        "%matplotlib inline\n",
        "from IPython.display import SVG\n",
        "import cv2\n",
        "import seaborn as sn\n",
        "import pandas as pd\n",
        "import pickle\n",
        "from keras import layers \n",
        "from keras.layers import Flatten, Input, Add, Dense, Activation, ZeroPadding2D, BatchNormalization, Conv2D,AveragePooling2D,MaxPooling2D,GlobalAveragePooling2D,Dropout\n",
        "from keras.models import Sequential, Model, load_model\n",
        "from keras.preprocessing import image\n",
        "from keras.preprocessing.image import load_img\n",
        "from keras.preprocessing.image import img_to_array\n",
        "from keras.applications.imagenet_utils import decode_predictions\n",
        "from keras.utils import layer_utils, np_utils\n",
        "from keras.utils.data_utils import get_file\n",
        "from keras.applications.imagenet_utils import preprocess_input\n",
        "from keras.utils.vis_utils import model_to_dot\n",
        "from keras.utils.vis_utils import plot_model\n",
        "from keras.initializers import glorot_uniform\n",
        "from keras import losses\n",
        "import keras.backend as k\n",
        "from keras.callbacks import ModelCheckpoint\n",
        "from sklearn.metrics import confusion_matrix, classification_report\n",
        "import tensorflow as tf"
      ],
      "metadata": {
        "id": "0hr-5277cxYT"
      },
      "execution_count": 1,
      "outputs": []
    },
    {
      "cell_type": "code",
      "source": [
        "from keras.datasets import cifar100\n",
        "(x_train_original, y_train_original), (x_test_original, y_test_original) = cifar100.load_data(label_mode=('fine'))"
      ],
      "metadata": {
        "id": "U9PeOttXnHw5",
        "colab": {
          "base_uri": "https://localhost:8080/"
        },
        "outputId": "79ad5b8c-13ee-43bc-858e-94c85b419bfc"
      },
      "execution_count": 2,
      "outputs": [
        {
          "output_type": "stream",
          "name": "stdout",
          "text": [
            "Downloading data from https://www.cs.toronto.edu/~kriz/cifar-100-python.tar.gz\n",
            "169009152/169001437 [==============================] - 2s 0us/step\n",
            "169017344/169001437 [==============================] - 2s 0us/step\n"
          ]
        }
      ]
    },
    {
      "cell_type": "code",
      "source": [
        "y_train_original.shape#la cantidad de datos"
      ],
      "metadata": {
        "colab": {
          "base_uri": "https://localhost:8080/"
        },
        "id": "jufm6ovqo1qu",
        "outputId": "879eaa85-eeb0-49b1-af6c-9625fb28c013"
      },
      "execution_count": 3,
      "outputs": [
        {
          "output_type": "execute_result",
          "data": {
            "text/plain": [
              "(50000, 1)"
            ]
          },
          "metadata": {},
          "execution_count": 3
        }
      ]
    },
    {
      "cell_type": "code",
      "source": [
        "y_test_original.shape"
      ],
      "metadata": {
        "colab": {
          "base_uri": "https://localhost:8080/"
        },
        "id": "r4JZo7HZv1-2",
        "outputId": "a50f24fc-e836-4439-af56-e9993b22acf6"
      },
      "execution_count": 4,
      "outputs": [
        {
          "output_type": "execute_result",
          "data": {
            "text/plain": [
              "(10000, 1)"
            ]
          },
          "metadata": {},
          "execution_count": 4
        }
      ]
    },
    {
      "cell_type": "code",
      "source": [
        "y_train_original# estos son los arreglos"
      ],
      "metadata": {
        "colab": {
          "base_uri": "https://localhost:8080/"
        },
        "id": "eFEyvEqCpDIX",
        "outputId": "ac9d62a2-c768-4ca2-eadc-dc90dc7fbced"
      },
      "execution_count": 5,
      "outputs": [
        {
          "output_type": "execute_result",
          "data": {
            "text/plain": [
              "array([[19],\n",
              "       [29],\n",
              "       [ 0],\n",
              "       ...,\n",
              "       [ 3],\n",
              "       [ 7],\n",
              "       [73]])"
            ]
          },
          "metadata": {},
          "execution_count": 5
        }
      ]
    },
    {
      "cell_type": "code",
      "source": [
        "y_train = np_utils.to_categorical(y_train_original, 100)\n",
        "y_test = np_utils.to_categorical(y_test_original, 100)"
      ],
      "metadata": {
        "id": "B3OHpzcppTs-"
      },
      "execution_count": 6,
      "outputs": []
    },
    {
      "cell_type": "code",
      "source": [
        "y_train.shape"
      ],
      "metadata": {
        "colab": {
          "base_uri": "https://localhost:8080/"
        },
        "id": "7iJEJlx7taoP",
        "outputId": "cf321a60-714b-4696-dbfb-cd4e19314fdb"
      },
      "execution_count": 7,
      "outputs": [
        {
          "output_type": "execute_result",
          "data": {
            "text/plain": [
              "(50000, 100)"
            ]
          },
          "metadata": {},
          "execution_count": 7
        }
      ]
    },
    {
      "cell_type": "code",
      "source": [
        "y_test.shape"
      ],
      "metadata": {
        "colab": {
          "base_uri": "https://localhost:8080/"
        },
        "id": "C18GvFgStk0x",
        "outputId": "a94e8864-f5c4-4e10-9f3c-0c6b2fc36f0a"
      },
      "execution_count": 8,
      "outputs": [
        {
          "output_type": "execute_result",
          "data": {
            "text/plain": [
              "(10000, 100)"
            ]
          },
          "metadata": {},
          "execution_count": 8
        }
      ]
    },
    {
      "cell_type": "code",
      "source": [
        "y_train"
      ],
      "metadata": {
        "colab": {
          "base_uri": "https://localhost:8080/"
        },
        "id": "g0aNgECUtq-j",
        "outputId": "f7b38efb-5e47-450e-f293-0fb5f3e062e8"
      },
      "execution_count": 9,
      "outputs": [
        {
          "output_type": "execute_result",
          "data": {
            "text/plain": [
              "array([[0., 0., 0., ..., 0., 0., 0.],\n",
              "       [0., 0., 0., ..., 0., 0., 0.],\n",
              "       [1., 0., 0., ..., 0., 0., 0.],\n",
              "       ...,\n",
              "       [0., 0., 0., ..., 0., 0., 0.],\n",
              "       [0., 0., 0., ..., 0., 0., 0.],\n",
              "       [0., 0., 0., ..., 0., 0., 0.]], dtype=float32)"
            ]
          },
          "metadata": {},
          "execution_count": 9
        }
      ]
    },
    {
      "cell_type": "code",
      "source": [
        "x_train_original.shape# te da una matriz de 3*3\n",
        "# el 3 es por la escala de grises "
      ],
      "metadata": {
        "colab": {
          "base_uri": "https://localhost:8080/"
        },
        "id": "ygbGcNSMtxJR",
        "outputId": "639d12bf-4be5-436c-b0f2-cee24597da4c"
      },
      "execution_count": 10,
      "outputs": [
        {
          "output_type": "execute_result",
          "data": {
            "text/plain": [
              "(50000, 32, 32, 3)"
            ]
          },
          "metadata": {},
          "execution_count": 10
        }
      ]
    },
    {
      "cell_type": "code",
      "source": [
        "x_train_original[0]#aqui imprimimos las 3 matrizes de cada elemento"
      ],
      "metadata": {
        "colab": {
          "base_uri": "https://localhost:8080/"
        },
        "id": "l88yp78Ct43j",
        "outputId": "3eeab8d4-411f-498f-fa71-c7f00c5b190d"
      },
      "execution_count": 11,
      "outputs": [
        {
          "output_type": "execute_result",
          "data": {
            "text/plain": [
              "array([[[255, 255, 255],\n",
              "        [255, 255, 255],\n",
              "        [255, 255, 255],\n",
              "        ...,\n",
              "        [195, 205, 193],\n",
              "        [212, 224, 204],\n",
              "        [182, 194, 167]],\n",
              "\n",
              "       [[255, 255, 255],\n",
              "        [254, 254, 254],\n",
              "        [254, 254, 254],\n",
              "        ...,\n",
              "        [170, 176, 150],\n",
              "        [161, 168, 130],\n",
              "        [146, 154, 113]],\n",
              "\n",
              "       [[255, 255, 255],\n",
              "        [254, 254, 254],\n",
              "        [255, 255, 255],\n",
              "        ...,\n",
              "        [189, 199, 169],\n",
              "        [166, 178, 130],\n",
              "        [121, 133,  87]],\n",
              "\n",
              "       ...,\n",
              "\n",
              "       [[148, 185,  79],\n",
              "        [142, 182,  57],\n",
              "        [140, 179,  60],\n",
              "        ...,\n",
              "        [ 30,  17,   1],\n",
              "        [ 65,  62,  15],\n",
              "        [ 76,  77,  20]],\n",
              "\n",
              "       [[122, 157,  66],\n",
              "        [120, 155,  58],\n",
              "        [126, 160,  71],\n",
              "        ...,\n",
              "        [ 22,  16,   3],\n",
              "        [ 97, 112,  56],\n",
              "        [141, 161,  87]],\n",
              "\n",
              "       [[ 87, 122,  41],\n",
              "        [ 88, 122,  39],\n",
              "        [101, 134,  56],\n",
              "        ...,\n",
              "        [ 34,  36,  10],\n",
              "        [105, 133,  59],\n",
              "        [138, 173,  79]]], dtype=uint8)"
            ]
          },
          "metadata": {},
          "execution_count": 11
        }
      ]
    },
    {
      "cell_type": "code",
      "source": [
        "imgplot = plt.imshow(x_train_original[49999]) #aqui le estamos pidiendo el ultimo dato\n",
        "plt.show#aqui se muestra \n",
        "# se comprueba que esta dentro del rango"
      ],
      "metadata": {
        "colab": {
          "base_uri": "https://localhost:8080/",
          "height": 283
        },
        "id": "ZabuygMzt-Zl",
        "outputId": "f29b4b89-ee97-401b-f031-b70843502bdc"
      },
      "execution_count": 12,
      "outputs": [
        {
          "output_type": "execute_result",
          "data": {
            "text/plain": [
              "<function matplotlib.pyplot.show>"
            ]
          },
          "metadata": {},
          "execution_count": 12
        },
        {
          "output_type": "display_data",
          "data": {
            "text/plain": [
              "<Figure size 432x288 with 1 Axes>"
            ],
            "image/png": "[encoded data removed]"
          },
          "metadata": {
            "needs_background": "light"
          }
        }
      ]
    },
    {
      "cell_type": "code",
      "source": [
        "x_train = x_train_original/255.0\n",
        "x_test = x_test_original/255.0"
      ],
      "metadata": {
        "id": "g8yDdpuOx43h"
      },
      "execution_count": 13,
      "outputs": []
    },
    {
      "cell_type": "code",
      "source": [
        "x_train.shape"
      ],
      "metadata": {
        "colab": {
          "base_uri": "https://localhost:8080/"
        },
        "id": "y1RN-8aWyJ1r",
        "outputId": "9153dfbe-d500-43b8-a11b-100963add9ca"
      },
      "execution_count": 14,
      "outputs": [
        {
          "output_type": "execute_result",
          "data": {
            "text/plain": [
              "(50000, 32, 32, 3)"
            ]
          },
          "metadata": {},
          "execution_count": 14
        }
      ]
    },
    {
      "cell_type": "code",
      "source": [
        "x_train[0]"
      ],
      "metadata": {
        "colab": {
          "base_uri": "https://localhost:8080/"
        },
        "id": "1CEAozzEzAz7",
        "outputId": "93f7ec7e-0823-48b5-af14-c3b802ea5895"
      },
      "execution_count": 15,
      "outputs": [
        {
          "output_type": "execute_result",
          "data": {
            "text/plain": [
              "array([[[1.        , 1.        , 1.        ],\n",
              "        [1.        , 1.        , 1.        ],\n",
              "        [1.        , 1.        , 1.        ],\n",
              "        ...,\n",
              "        [0.76470588, 0.80392157, 0.75686275],\n",
              "        [0.83137255, 0.87843137, 0.8       ],\n",
              "        [0.71372549, 0.76078431, 0.65490196]],\n",
              "\n",
              "       [[1.        , 1.        , 1.        ],\n",
              "        [0.99607843, 0.99607843, 0.99607843],\n",
              "        [0.99607843, 0.99607843, 0.99607843],\n",
              "        ...,\n",
              "        [0.66666667, 0.69019608, 0.58823529],\n",
              "        [0.63137255, 0.65882353, 0.50980392],\n",
              "        [0.57254902, 0.60392157, 0.44313725]],\n",
              "\n",
              "       [[1.        , 1.        , 1.        ],\n",
              "        [0.99607843, 0.99607843, 0.99607843],\n",
              "        [1.        , 1.        , 1.        ],\n",
              "        ...,\n",
              "        [0.74117647, 0.78039216, 0.6627451 ],\n",
              "        [0.65098039, 0.69803922, 0.50980392],\n",
              "        [0.4745098 , 0.52156863, 0.34117647]],\n",
              "\n",
              "       ...,\n",
              "\n",
              "       [[0.58039216, 0.7254902 , 0.30980392],\n",
              "        [0.55686275, 0.71372549, 0.22352941],\n",
              "        [0.54901961, 0.70196078, 0.23529412],\n",
              "        ...,\n",
              "        [0.11764706, 0.06666667, 0.00392157],\n",
              "        [0.25490196, 0.24313725, 0.05882353],\n",
              "        [0.29803922, 0.30196078, 0.07843137]],\n",
              "\n",
              "       [[0.47843137, 0.61568627, 0.25882353],\n",
              "        [0.47058824, 0.60784314, 0.22745098],\n",
              "        [0.49411765, 0.62745098, 0.27843137],\n",
              "        ...,\n",
              "        [0.08627451, 0.0627451 , 0.01176471],\n",
              "        [0.38039216, 0.43921569, 0.21960784],\n",
              "        [0.55294118, 0.63137255, 0.34117647]],\n",
              "\n",
              "       [[0.34117647, 0.47843137, 0.16078431],\n",
              "        [0.34509804, 0.47843137, 0.15294118],\n",
              "        [0.39607843, 0.5254902 , 0.21960784],\n",
              "        ...,\n",
              "        [0.13333333, 0.14117647, 0.03921569],\n",
              "        [0.41176471, 0.52156863, 0.23137255],\n",
              "        [0.54117647, 0.67843137, 0.30980392]]])"
            ]
          },
          "metadata": {},
          "execution_count": 15
        }
      ]
    },
    {
      "cell_type": "code",
      "source": [
        "k.set_image_data_format('channels_last')"
      ],
      "metadata": {
        "id": "_Iut-N0DzUFs"
      },
      "execution_count": 16,
      "outputs": []
    },
    {
      "cell_type": "code",
      "source": [
        "k.set_learning_phase(1)"
      ],
      "metadata": {
        "colab": {
          "base_uri": "https://localhost:8080/"
        },
        "id": "DsyG__BR0EbS",
        "outputId": "84fe178b-fabb-4f1b-edde-f6fb22cd5aef"
      },
      "execution_count": 17,
      "outputs": [
        {
          "output_type": "stream",
          "name": "stderr",
          "text": [
            "/usr/local/lib/python3.7/dist-packages/keras/backend.py:450: UserWarning: `tf.keras.backend.set_learning_phase` is deprecated and will be removed after 2020-10-11. To update it, simply pass a True/False value to the `training` argument of the `__call__` method of your layer or model.\n",
            "  warnings.warn('`tf.keras.backend.set_learning_phase` is deprecated and '\n"
          ]
        }
      ]
    },
    {
      "cell_type": "code",
      "source": [
        "def create_simple_nn():\n",
        "  model = Sequential()# el modelo secuencial es una pila lineal de capas\n",
        "  model.add(Flatten(input_shape=(32, 32, 3), name= \"Input_layers\"))# agregando capas \n",
        "  model.add(Dense(1000,  activation='relu', name= \"Hidden_layer_1\"))\n",
        "  model.add(Dense(500,  activation='relu', name= \"Hidden_layer_2\"))\n",
        "  model.add(Dense(100,  activation='softmax', name= \"Output_layer\"))\n",
        "  return model"
      ],
      "metadata": {
        "id": "GQs6Vqem1KPV"
      },
      "execution_count": 18,
      "outputs": []
    },
    {
      "cell_type": "code",
      "source": [
        "snn_model = create_simple_nn()\n",
        "snn_model.compile(loss='categorical_crossentropy', optimizer='sgd', metrics=['acc', 'mse'])"
      ],
      "metadata": {
        "id": "iE8cg8s23bOK"
      },
      "execution_count": 19,
      "outputs": []
    },
    {
      "cell_type": "code",
      "source": [
        "snn_model.summary()"
      ],
      "metadata": {
        "colab": {
          "base_uri": "https://localhost:8080/"
        },
        "id": "zLAIT4ju4GWy",
        "outputId": "3b5bb664-aee8-467e-85de-78f49f12a7ed"
      },
      "execution_count": 20,
      "outputs": [
        {
          "output_type": "stream",
          "name": "stdout",
          "text": [
            "Model: \"sequential\"\n",
            "_________________________________________________________________\n",
            " Layer (type)                Output Shape              Param #   \n",
            "=================================================================\n",
            " Input_layers (Flatten)      (None, 3072)              0         \n",
            "                                                                 \n",
            " Hidden_layer_1 (Dense)      (None, 1000)              3073000   \n",
            "                                                                 \n",
            " Hidden_layer_2 (Dense)      (None, 500)               500500    \n",
            "                                                                 \n",
            " Output_layer (Dense)        (None, 100)               50100     \n",
            "                                                                 \n",
            "=================================================================\n",
            "Total params: 3,623,600\n",
            "Trainable params: 3,623,600\n",
            "Non-trainable params: 0\n",
            "_________________________________________________________________\n"
          ]
        }
      ]
    },
    {
      "cell_type": "code",
      "source": [
        "snn = snn_model.fit(x=x_train, y=y_train, batch_size=32, epochs=10, verbose=1, validation_data=(x_test, y_test), shuffle= True)"
      ],
      "metadata": {
        "colab": {
          "base_uri": "https://localhost:8080/"
        },
        "id": "k4HsWGsn42Mm",
        "outputId": "687318dd-da98-4798-837f-d4cfe88f5513"
      },
      "execution_count": 21,
      "outputs": [
        {
          "output_type": "stream",
          "name": "stdout",
          "text": [
            "Epoch 1/10\n",
            "1563/1563 [==============================] - 49s 31ms/step - loss: 4.1894 - acc: 0.0712 - mse: 0.0097 - val_loss: 3.9501 - val_acc: 0.1005 - val_mse: 0.0096\n",
            "Epoch 2/10\n",
            "1563/1563 [==============================] - 49s 31ms/step - loss: 3.7984 - acc: 0.1287 - mse: 0.0095 - val_loss: 3.7586 - val_acc: 0.1289 - val_mse: 0.0094\n",
            "Epoch 3/10\n",
            "1563/1563 [==============================] - 49s 32ms/step - loss: 3.6373 - acc: 0.1565 - mse: 0.0093 - val_loss: 3.6442 - val_acc: 0.1573 - val_mse: 0.0093\n",
            "Epoch 4/10\n",
            "1563/1563 [==============================] - 47s 30ms/step - loss: 3.5338 - acc: 0.1772 - mse: 0.0092 - val_loss: 3.6237 - val_acc: 0.1571 - val_mse: 0.0093\n",
            "Epoch 5/10\n",
            "1563/1563 [==============================] - 47s 30ms/step - loss: 3.4502 - acc: 0.1892 - mse: 0.0091 - val_loss: 3.5382 - val_acc: 0.1742 - val_mse: 0.0092\n",
            "Epoch 6/10\n",
            "1563/1563 [==============================] - 47s 30ms/step - loss: 3.3778 - acc: 0.2042 - mse: 0.0090 - val_loss: 3.4764 - val_acc: 0.1908 - val_mse: 0.0091\n",
            "Epoch 7/10\n",
            "1563/1563 [==============================] - 52s 33ms/step - loss: 3.3103 - acc: 0.2164 - mse: 0.0090 - val_loss: 3.4431 - val_acc: 0.1933 - val_mse: 0.0091\n",
            "Epoch 8/10\n",
            "1563/1563 [==============================] - 52s 33ms/step - loss: 3.2502 - acc: 0.2269 - mse: 0.0089 - val_loss: 3.4040 - val_acc: 0.2020 - val_mse: 0.0090\n",
            "Epoch 9/10\n",
            "1563/1563 [==============================] - 50s 32ms/step - loss: 3.1952 - acc: 0.2376 - mse: 0.0088 - val_loss: 3.4192 - val_acc: 0.1954 - val_mse: 0.0091\n",
            "Epoch 10/10\n",
            "1563/1563 [==============================] - 55s 35ms/step - loss: 3.1402 - acc: 0.2457 - mse: 0.0087 - val_loss: 3.3654 - val_acc: 0.2125 - val_mse: 0.0090\n"
          ]
        }
      ]
    },
    {
      "cell_type": "code",
      "source": [
        "eval= snn_model.evaluate(x=x_test, y=y_test, batch_size=32, verbose=1)\n",
        "eval# las metricas mostradadas son loss, acc, mean_squeared_error"
      ],
      "metadata": {
        "colab": {
          "base_uri": "https://localhost:8080/"
        },
        "id": "ln4csOWo7dnn",
        "outputId": "365a113f-bcc4-48d7-ecdc-db1bd7edc7cd"
      },
      "execution_count": 22,
      "outputs": [
        {
          "output_type": "stream",
          "name": "stdout",
          "text": [
            "313/313 [==============================] - 5s 15ms/step - loss: 3.3654 - acc: 0.2125 - mse: 0.0090\n"
          ]
        },
        {
          "output_type": "execute_result",
          "data": {
            "text/plain": [
              "[3.3654496669769287, 0.21250000596046448, 0.008971862494945526]"
            ]
          },
          "metadata": {},
          "execution_count": 22
        }
      ]
    },
    {
      "cell_type": "code",
      "source": [
        "plt.figure(0)\n",
        "plt.plot(snn.history['acc'],'r')\n",
        "plt.plot(snn.history['val_acc'],'g')\n",
        "plt.xticks(np.arange(0, 11, 2.0))\n",
        "plt.rcParams['figure.figsize'] = (8, 6)\n",
        "plt.xlabel(\"num of Epochs\")\n",
        "plt.title(\"training accuracy vs Validation Accuracy\")#aciertos\n",
        "plt.legend(['train',  'validation'])\n",
        "\n",
        "plt.figure(0)\n",
        "plt.plot(snn.history['loss'],'r')\n",
        "plt.plot(snn.history['val_loss'],'g')\n",
        "plt.xticks(np.arange(0, 11, 2.0))\n",
        "plt.rcParams['figure.figsize']=(8, 6)\n",
        "plt.xlabel(\"Num Of Epochs\")\n",
        "plt.title(\"Training Accuracy vs Validation Accuracy\")#aciertos\n",
        "plt.legend(['train',  'validation'])\n",
        "\n",
        "plt.show()"
      ],
      "metadata": {
        "colab": {
          "base_uri": "https://localhost:8080/",
          "height": 295
        },
        "id": "-lw_ClTX8HB3",
        "outputId": "cb0b9656-e94f-4656-c9f5-5ebba12133e8"
      },
      "execution_count": 23,
      "outputs": [
        {
          "output_type": "display_data",
          "data": {
            "text/plain": [
              "<Figure size 432x288 with 1 Axes>"
            ],
            "image/png": "[encoded data removed]"
          },
          "metadata": {
            "needs_background": "light"
          }
        }
      ]
    }
  ]
}